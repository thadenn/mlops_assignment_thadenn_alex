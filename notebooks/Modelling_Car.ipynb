{
 "cells": [
  {
   "cell_type": "code",
   "execution_count": 5,
   "id": "3e5f809f-e25d-42c6-b8d5-f6d7cff26ae6",
   "metadata": {},
   "outputs": [],
   "source": [
    "import pandas as pd\n",
    "import mlflow\n",
    "from pycaret.regression import *\n",
    "import warnings\n",
    "warnings.filterwarnings('ignore')"
   ]
  },
  {
   "cell_type": "code",
   "execution_count": 6,
   "id": "059de6fb-598a-4772-aa1d-a8a63661c601",
   "metadata": {},
   "outputs": [],
   "source": [
    "df = pd.read_csv('../data/processed/clean_used_car_prices.csv')"
   ]
  },
  {
   "cell_type": "code",
   "execution_count": 7,
   "id": "2f47e63e-60c2-44d2-bb52-0b85145297cd",
   "metadata": {
    "scrolled": true
   },
   "outputs": [
    {
     "data": {
      "text/html": [
       "<style type=\"text/css\">\n",
       "#T_57390_row10_col1, #T_57390_row16_col1 {\n",
       "  background-color: lightgreen;\n",
       "}\n",
       "</style>\n",
       "<table id=\"T_57390\">\n",
       "  <thead>\n",
       "    <tr>\n",
       "      <th class=\"blank level0\" >&nbsp;</th>\n",
       "      <th id=\"T_57390_level0_col0\" class=\"col_heading level0 col0\" >Description</th>\n",
       "      <th id=\"T_57390_level0_col1\" class=\"col_heading level0 col1\" >Value</th>\n",
       "    </tr>\n",
       "  </thead>\n",
       "  <tbody>\n",
       "    <tr>\n",
       "      <th id=\"T_57390_level0_row0\" class=\"row_heading level0 row0\" >0</th>\n",
       "      <td id=\"T_57390_row0_col0\" class=\"data row0 col0\" >Session id</td>\n",
       "      <td id=\"T_57390_row0_col1\" class=\"data row0 col1\" >42</td>\n",
       "    </tr>\n",
       "    <tr>\n",
       "      <th id=\"T_57390_level0_row1\" class=\"row_heading level0 row1\" >1</th>\n",
       "      <td id=\"T_57390_row1_col0\" class=\"data row1 col0\" >Target</td>\n",
       "      <td id=\"T_57390_row1_col1\" class=\"data row1 col1\" >Price</td>\n",
       "    </tr>\n",
       "    <tr>\n",
       "      <th id=\"T_57390_level0_row2\" class=\"row_heading level0 row2\" >2</th>\n",
       "      <td id=\"T_57390_row2_col0\" class=\"data row2 col0\" >Target type</td>\n",
       "      <td id=\"T_57390_row2_col1\" class=\"data row2 col1\" >Regression</td>\n",
       "    </tr>\n",
       "    <tr>\n",
       "      <th id=\"T_57390_level0_row3\" class=\"row_heading level0 row3\" >3</th>\n",
       "      <td id=\"T_57390_row3_col0\" class=\"data row3 col0\" >Original data shape</td>\n",
       "      <td id=\"T_57390_row3_col1\" class=\"data row3 col1\" >(5146, 15)</td>\n",
       "    </tr>\n",
       "    <tr>\n",
       "      <th id=\"T_57390_level0_row4\" class=\"row_heading level0 row4\" >4</th>\n",
       "      <td id=\"T_57390_row4_col0\" class=\"data row4 col0\" >Transformed data shape</td>\n",
       "      <td id=\"T_57390_row4_col1\" class=\"data row4 col1\" >(5146, 45)</td>\n",
       "    </tr>\n",
       "    <tr>\n",
       "      <th id=\"T_57390_level0_row5\" class=\"row_heading level0 row5\" >5</th>\n",
       "      <td id=\"T_57390_row5_col0\" class=\"data row5 col0\" >Transformed train set shape</td>\n",
       "      <td id=\"T_57390_row5_col1\" class=\"data row5 col1\" >(3602, 45)</td>\n",
       "    </tr>\n",
       "    <tr>\n",
       "      <th id=\"T_57390_level0_row6\" class=\"row_heading level0 row6\" >6</th>\n",
       "      <td id=\"T_57390_row6_col0\" class=\"data row6 col0\" >Transformed test set shape</td>\n",
       "      <td id=\"T_57390_row6_col1\" class=\"data row6 col1\" >(1544, 45)</td>\n",
       "    </tr>\n",
       "    <tr>\n",
       "      <th id=\"T_57390_level0_row7\" class=\"row_heading level0 row7\" >7</th>\n",
       "      <td id=\"T_57390_row7_col0\" class=\"data row7 col0\" >Numeric features</td>\n",
       "      <td id=\"T_57390_row7_col1\" class=\"data row7 col1\" >8</td>\n",
       "    </tr>\n",
       "    <tr>\n",
       "      <th id=\"T_57390_level0_row8\" class=\"row_heading level0 row8\" >8</th>\n",
       "      <td id=\"T_57390_row8_col0\" class=\"data row8 col0\" >Categorical features</td>\n",
       "      <td id=\"T_57390_row8_col1\" class=\"data row8 col1\" >6</td>\n",
       "    </tr>\n",
       "    <tr>\n",
       "      <th id=\"T_57390_level0_row9\" class=\"row_heading level0 row9\" >9</th>\n",
       "      <td id=\"T_57390_row9_col0\" class=\"data row9 col0\" >Rows with missing values</td>\n",
       "      <td id=\"T_57390_row9_col1\" class=\"data row9 col1\" >0.0%</td>\n",
       "    </tr>\n",
       "    <tr>\n",
       "      <th id=\"T_57390_level0_row10\" class=\"row_heading level0 row10\" >10</th>\n",
       "      <td id=\"T_57390_row10_col0\" class=\"data row10 col0\" >Preprocess</td>\n",
       "      <td id=\"T_57390_row10_col1\" class=\"data row10 col1\" >True</td>\n",
       "    </tr>\n",
       "    <tr>\n",
       "      <th id=\"T_57390_level0_row11\" class=\"row_heading level0 row11\" >11</th>\n",
       "      <td id=\"T_57390_row11_col0\" class=\"data row11 col0\" >Imputation type</td>\n",
       "      <td id=\"T_57390_row11_col1\" class=\"data row11 col1\" >simple</td>\n",
       "    </tr>\n",
       "    <tr>\n",
       "      <th id=\"T_57390_level0_row12\" class=\"row_heading level0 row12\" >12</th>\n",
       "      <td id=\"T_57390_row12_col0\" class=\"data row12 col0\" >Numeric imputation</td>\n",
       "      <td id=\"T_57390_row12_col1\" class=\"data row12 col1\" >mean</td>\n",
       "    </tr>\n",
       "    <tr>\n",
       "      <th id=\"T_57390_level0_row13\" class=\"row_heading level0 row13\" >13</th>\n",
       "      <td id=\"T_57390_row13_col0\" class=\"data row13 col0\" >Categorical imputation</td>\n",
       "      <td id=\"T_57390_row13_col1\" class=\"data row13 col1\" >mode</td>\n",
       "    </tr>\n",
       "    <tr>\n",
       "      <th id=\"T_57390_level0_row14\" class=\"row_heading level0 row14\" >14</th>\n",
       "      <td id=\"T_57390_row14_col0\" class=\"data row14 col0\" >Maximum one-hot encoding</td>\n",
       "      <td id=\"T_57390_row14_col1\" class=\"data row14 col1\" >25</td>\n",
       "    </tr>\n",
       "    <tr>\n",
       "      <th id=\"T_57390_level0_row15\" class=\"row_heading level0 row15\" >15</th>\n",
       "      <td id=\"T_57390_row15_col0\" class=\"data row15 col0\" >Encoding method</td>\n",
       "      <td id=\"T_57390_row15_col1\" class=\"data row15 col1\" >None</td>\n",
       "    </tr>\n",
       "    <tr>\n",
       "      <th id=\"T_57390_level0_row16\" class=\"row_heading level0 row16\" >16</th>\n",
       "      <td id=\"T_57390_row16_col0\" class=\"data row16 col0\" >Normalize</td>\n",
       "      <td id=\"T_57390_row16_col1\" class=\"data row16 col1\" >True</td>\n",
       "    </tr>\n",
       "    <tr>\n",
       "      <th id=\"T_57390_level0_row17\" class=\"row_heading level0 row17\" >17</th>\n",
       "      <td id=\"T_57390_row17_col0\" class=\"data row17 col0\" >Normalize method</td>\n",
       "      <td id=\"T_57390_row17_col1\" class=\"data row17 col1\" >zscore</td>\n",
       "    </tr>\n",
       "    <tr>\n",
       "      <th id=\"T_57390_level0_row18\" class=\"row_heading level0 row18\" >18</th>\n",
       "      <td id=\"T_57390_row18_col0\" class=\"data row18 col0\" >Fold Generator</td>\n",
       "      <td id=\"T_57390_row18_col1\" class=\"data row18 col1\" >KFold</td>\n",
       "    </tr>\n",
       "    <tr>\n",
       "      <th id=\"T_57390_level0_row19\" class=\"row_heading level0 row19\" >19</th>\n",
       "      <td id=\"T_57390_row19_col0\" class=\"data row19 col0\" >Fold Number</td>\n",
       "      <td id=\"T_57390_row19_col1\" class=\"data row19 col1\" >10</td>\n",
       "    </tr>\n",
       "    <tr>\n",
       "      <th id=\"T_57390_level0_row20\" class=\"row_heading level0 row20\" >20</th>\n",
       "      <td id=\"T_57390_row20_col0\" class=\"data row20 col0\" >CPU Jobs</td>\n",
       "      <td id=\"T_57390_row20_col1\" class=\"data row20 col1\" >-1</td>\n",
       "    </tr>\n",
       "    <tr>\n",
       "      <th id=\"T_57390_level0_row21\" class=\"row_heading level0 row21\" >21</th>\n",
       "      <td id=\"T_57390_row21_col0\" class=\"data row21 col0\" >Use GPU</td>\n",
       "      <td id=\"T_57390_row21_col1\" class=\"data row21 col1\" >False</td>\n",
       "    </tr>\n",
       "    <tr>\n",
       "      <th id=\"T_57390_level0_row22\" class=\"row_heading level0 row22\" >22</th>\n",
       "      <td id=\"T_57390_row22_col0\" class=\"data row22 col0\" >Log Experiment</td>\n",
       "      <td id=\"T_57390_row22_col1\" class=\"data row22 col1\" >False</td>\n",
       "    </tr>\n",
       "    <tr>\n",
       "      <th id=\"T_57390_level0_row23\" class=\"row_heading level0 row23\" >23</th>\n",
       "      <td id=\"T_57390_row23_col0\" class=\"data row23 col0\" >Experiment Name</td>\n",
       "      <td id=\"T_57390_row23_col1\" class=\"data row23 col1\" >reg-default-name</td>\n",
       "    </tr>\n",
       "    <tr>\n",
       "      <th id=\"T_57390_level0_row24\" class=\"row_heading level0 row24\" >24</th>\n",
       "      <td id=\"T_57390_row24_col0\" class=\"data row24 col0\" >USI</td>\n",
       "      <td id=\"T_57390_row24_col1\" class=\"data row24 col1\" >0460</td>\n",
       "    </tr>\n",
       "  </tbody>\n",
       "</table>\n"
      ],
      "text/plain": [
       "<pandas.io.formats.style.Styler at 0x19faad784c0>"
      ]
     },
     "metadata": {},
     "output_type": "display_data"
    }
   ],
   "source": [
    "exp = setup(\n",
    "    data=df,\n",
    "    target='Price',\n",
    "    normalize=True,\n",
    "    rare_to_value=0.01,\n",
    "    bin_numeric_features=['Mileage','Engine','Car_Age'],\n",
    "    session_id=42\n",
    ")"
   ]
  },
  {
   "cell_type": "code",
   "execution_count": 8,
   "id": "4c8cfdb2-1828-4476-bc43-43bb795083f3",
   "metadata": {},
   "outputs": [
    {
     "data": {
      "text/html": [],
      "text/plain": [
       "<IPython.core.display.HTML object>"
      ]
     },
     "metadata": {},
     "output_type": "display_data"
    },
    {
     "data": {
      "text/html": [
       "<style type=\"text/css\">\n",
       "#T_617c2 th {\n",
       "  text-align: left;\n",
       "}\n",
       "#T_617c2_row0_col0, #T_617c2_row1_col0, #T_617c2_row1_col1, #T_617c2_row1_col2, #T_617c2_row1_col3, #T_617c2_row1_col4, #T_617c2_row1_col5, #T_617c2_row1_col6, #T_617c2_row2_col0, #T_617c2_row2_col1, #T_617c2_row2_col2, #T_617c2_row2_col3, #T_617c2_row2_col4, #T_617c2_row2_col5, #T_617c2_row2_col6, #T_617c2_row3_col0, #T_617c2_row3_col1, #T_617c2_row3_col2, #T_617c2_row3_col3, #T_617c2_row3_col4, #T_617c2_row3_col5, #T_617c2_row3_col6, #T_617c2_row4_col0, #T_617c2_row4_col1, #T_617c2_row4_col2, #T_617c2_row4_col3, #T_617c2_row4_col4, #T_617c2_row4_col5, #T_617c2_row4_col6, #T_617c2_row5_col0, #T_617c2_row5_col1, #T_617c2_row5_col2, #T_617c2_row5_col3, #T_617c2_row5_col4, #T_617c2_row5_col5, #T_617c2_row5_col6, #T_617c2_row6_col0, #T_617c2_row6_col1, #T_617c2_row6_col2, #T_617c2_row6_col3, #T_617c2_row6_col4, #T_617c2_row6_col5, #T_617c2_row6_col6, #T_617c2_row7_col0, #T_617c2_row7_col1, #T_617c2_row7_col2, #T_617c2_row7_col3, #T_617c2_row7_col4, #T_617c2_row7_col5, #T_617c2_row7_col6, #T_617c2_row8_col0, #T_617c2_row8_col1, #T_617c2_row8_col2, #T_617c2_row8_col3, #T_617c2_row8_col4, #T_617c2_row8_col5, #T_617c2_row8_col6, #T_617c2_row9_col0, #T_617c2_row9_col1, #T_617c2_row9_col2, #T_617c2_row9_col3, #T_617c2_row9_col4, #T_617c2_row9_col5, #T_617c2_row9_col6, #T_617c2_row10_col0, #T_617c2_row10_col1, #T_617c2_row10_col2, #T_617c2_row10_col3, #T_617c2_row10_col4, #T_617c2_row10_col5, #T_617c2_row10_col6, #T_617c2_row11_col0, #T_617c2_row11_col1, #T_617c2_row11_col2, #T_617c2_row11_col3, #T_617c2_row11_col4, #T_617c2_row11_col5, #T_617c2_row11_col6, #T_617c2_row12_col0, #T_617c2_row12_col1, #T_617c2_row12_col2, #T_617c2_row12_col3, #T_617c2_row12_col4, #T_617c2_row12_col5, #T_617c2_row12_col6, #T_617c2_row13_col0, #T_617c2_row13_col1, #T_617c2_row13_col2, #T_617c2_row13_col3, #T_617c2_row13_col4, #T_617c2_row13_col5, #T_617c2_row13_col6, #T_617c2_row14_col0, #T_617c2_row14_col1, #T_617c2_row14_col2, #T_617c2_row14_col3, #T_617c2_row14_col4, #T_617c2_row14_col5, #T_617c2_row14_col6, #T_617c2_row15_col0, #T_617c2_row15_col1, #T_617c2_row15_col2, #T_617c2_row15_col3, #T_617c2_row15_col4, #T_617c2_row15_col5, #T_617c2_row15_col6, #T_617c2_row16_col0, #T_617c2_row16_col1, #T_617c2_row16_col2, #T_617c2_row16_col3, #T_617c2_row16_col4, #T_617c2_row16_col5, #T_617c2_row16_col6, #T_617c2_row17_col0, #T_617c2_row17_col1, #T_617c2_row17_col2, #T_617c2_row17_col3, #T_617c2_row17_col4, #T_617c2_row17_col5, #T_617c2_row17_col6, #T_617c2_row18_col0, #T_617c2_row18_col1, #T_617c2_row18_col2, #T_617c2_row18_col3, #T_617c2_row18_col4, #T_617c2_row18_col5, #T_617c2_row18_col6, #T_617c2_row19_col0, #T_617c2_row19_col1, #T_617c2_row19_col2, #T_617c2_row19_col3, #T_617c2_row19_col4, #T_617c2_row19_col5, #T_617c2_row19_col6 {\n",
       "  text-align: left;\n",
       "}\n",
       "#T_617c2_row0_col1, #T_617c2_row0_col2, #T_617c2_row0_col3, #T_617c2_row0_col4, #T_617c2_row0_col5, #T_617c2_row0_col6 {\n",
       "  text-align: left;\n",
       "  background-color: yellow;\n",
       "}\n",
       "#T_617c2_row0_col7, #T_617c2_row1_col7, #T_617c2_row2_col7, #T_617c2_row3_col7, #T_617c2_row4_col7, #T_617c2_row5_col7, #T_617c2_row6_col7, #T_617c2_row7_col7, #T_617c2_row8_col7, #T_617c2_row9_col7, #T_617c2_row11_col7, #T_617c2_row12_col7, #T_617c2_row13_col7, #T_617c2_row14_col7, #T_617c2_row15_col7, #T_617c2_row16_col7, #T_617c2_row17_col7, #T_617c2_row18_col7, #T_617c2_row19_col7 {\n",
       "  text-align: left;\n",
       "  background-color: lightgrey;\n",
       "}\n",
       "#T_617c2_row10_col7 {\n",
       "  text-align: left;\n",
       "  background-color: yellow;\n",
       "  background-color: lightgrey;\n",
       "}\n",
       "</style>\n",
       "<table id=\"T_617c2\">\n",
       "  <thead>\n",
       "    <tr>\n",
       "      <th class=\"blank level0\" >&nbsp;</th>\n",
       "      <th id=\"T_617c2_level0_col0\" class=\"col_heading level0 col0\" >Model</th>\n",
       "      <th id=\"T_617c2_level0_col1\" class=\"col_heading level0 col1\" >MAE</th>\n",
       "      <th id=\"T_617c2_level0_col2\" class=\"col_heading level0 col2\" >MSE</th>\n",
       "      <th id=\"T_617c2_level0_col3\" class=\"col_heading level0 col3\" >RMSE</th>\n",
       "      <th id=\"T_617c2_level0_col4\" class=\"col_heading level0 col4\" >R2</th>\n",
       "      <th id=\"T_617c2_level0_col5\" class=\"col_heading level0 col5\" >RMSLE</th>\n",
       "      <th id=\"T_617c2_level0_col6\" class=\"col_heading level0 col6\" >MAPE</th>\n",
       "      <th id=\"T_617c2_level0_col7\" class=\"col_heading level0 col7\" >TT (Sec)</th>\n",
       "    </tr>\n",
       "  </thead>\n",
       "  <tbody>\n",
       "    <tr>\n",
       "      <th id=\"T_617c2_level0_row0\" class=\"row_heading level0 row0\" >catboost</th>\n",
       "      <td id=\"T_617c2_row0_col0\" class=\"data row0 col0\" >CatBoost Regressor</td>\n",
       "      <td id=\"T_617c2_row0_col1\" class=\"data row0 col1\" >77425.6676</td>\n",
       "      <td id=\"T_617c2_row0_col2\" class=\"data row0 col2\" >15231909569.4629</td>\n",
       "      <td id=\"T_617c2_row0_col3\" class=\"data row0 col3\" >122833.3946</td>\n",
       "      <td id=\"T_617c2_row0_col4\" class=\"data row0 col4\" >0.9042</td>\n",
       "      <td id=\"T_617c2_row0_col5\" class=\"data row0 col5\" >0.1852</td>\n",
       "      <td id=\"T_617c2_row0_col6\" class=\"data row0 col6\" >0.1387</td>\n",
       "      <td id=\"T_617c2_row0_col7\" class=\"data row0 col7\" >0.4560</td>\n",
       "    </tr>\n",
       "    <tr>\n",
       "      <th id=\"T_617c2_level0_row1\" class=\"row_heading level0 row1\" >lightgbm</th>\n",
       "      <td id=\"T_617c2_row1_col0\" class=\"data row1 col0\" >Light Gradient Boosting Machine</td>\n",
       "      <td id=\"T_617c2_row1_col1\" class=\"data row1 col1\" >82900.5478</td>\n",
       "      <td id=\"T_617c2_row1_col2\" class=\"data row1 col2\" >17371012206.5130</td>\n",
       "      <td id=\"T_617c2_row1_col3\" class=\"data row1 col3\" >131187.7732</td>\n",
       "      <td id=\"T_617c2_row1_col4\" class=\"data row1 col4\" >0.8910</td>\n",
       "      <td id=\"T_617c2_row1_col5\" class=\"data row1 col5\" >0.1983</td>\n",
       "      <td id=\"T_617c2_row1_col6\" class=\"data row1 col6\" >0.1480</td>\n",
       "      <td id=\"T_617c2_row1_col7\" class=\"data row1 col7\" >0.1340</td>\n",
       "    </tr>\n",
       "    <tr>\n",
       "      <th id=\"T_617c2_level0_row2\" class=\"row_heading level0 row2\" >xgboost</th>\n",
       "      <td id=\"T_617c2_row2_col0\" class=\"data row2 col0\" >Extreme Gradient Boosting</td>\n",
       "      <td id=\"T_617c2_row2_col1\" class=\"data row2 col1\" >83650.3328</td>\n",
       "      <td id=\"T_617c2_row2_col2\" class=\"data row2 col2\" >18074670796.8000</td>\n",
       "      <td id=\"T_617c2_row2_col3\" class=\"data row2 col3\" >134028.2625</td>\n",
       "      <td id=\"T_617c2_row2_col4\" class=\"data row2 col4\" >0.8864</td>\n",
       "      <td id=\"T_617c2_row2_col5\" class=\"data row2 col5\" >0.2031</td>\n",
       "      <td id=\"T_617c2_row2_col6\" class=\"data row2 col6\" >0.1492</td>\n",
       "      <td id=\"T_617c2_row2_col7\" class=\"data row2 col7\" >0.0880</td>\n",
       "    </tr>\n",
       "    <tr>\n",
       "      <th id=\"T_617c2_level0_row3\" class=\"row_heading level0 row3\" >rf</th>\n",
       "      <td id=\"T_617c2_row3_col0\" class=\"data row3 col0\" >Random Forest Regressor</td>\n",
       "      <td id=\"T_617c2_row3_col1\" class=\"data row3 col1\" >86443.6589</td>\n",
       "      <td id=\"T_617c2_row3_col2\" class=\"data row3 col2\" >18645772789.7120</td>\n",
       "      <td id=\"T_617c2_row3_col3\" class=\"data row3 col3\" >135990.4258</td>\n",
       "      <td id=\"T_617c2_row3_col4\" class=\"data row3 col4\" >0.8830</td>\n",
       "      <td id=\"T_617c2_row3_col5\" class=\"data row3 col5\" >0.2069</td>\n",
       "      <td id=\"T_617c2_row3_col6\" class=\"data row3 col6\" >0.1590</td>\n",
       "      <td id=\"T_617c2_row3_col7\" class=\"data row3 col7\" >0.1890</td>\n",
       "    </tr>\n",
       "    <tr>\n",
       "      <th id=\"T_617c2_level0_row4\" class=\"row_heading level0 row4\" >et</th>\n",
       "      <td id=\"T_617c2_row4_col0\" class=\"data row4 col0\" >Extra Trees Regressor</td>\n",
       "      <td id=\"T_617c2_row4_col1\" class=\"data row4 col1\" >87057.9049</td>\n",
       "      <td id=\"T_617c2_row4_col2\" class=\"data row4 col2\" >19347886125.4951</td>\n",
       "      <td id=\"T_617c2_row4_col3\" class=\"data row4 col3\" >138750.7305</td>\n",
       "      <td id=\"T_617c2_row4_col4\" class=\"data row4 col4\" >0.8782</td>\n",
       "      <td id=\"T_617c2_row4_col5\" class=\"data row4 col5\" >0.2058</td>\n",
       "      <td id=\"T_617c2_row4_col6\" class=\"data row4 col6\" >0.1574</td>\n",
       "      <td id=\"T_617c2_row4_col7\" class=\"data row4 col7\" >0.1850</td>\n",
       "    </tr>\n",
       "    <tr>\n",
       "      <th id=\"T_617c2_level0_row5\" class=\"row_heading level0 row5\" >gbr</th>\n",
       "      <td id=\"T_617c2_row5_col0\" class=\"data row5 col0\" >Gradient Boosting Regressor</td>\n",
       "      <td id=\"T_617c2_row5_col1\" class=\"data row5 col1\" >95611.8263</td>\n",
       "      <td id=\"T_617c2_row5_col2\" class=\"data row5 col2\" >20474971090.4305</td>\n",
       "      <td id=\"T_617c2_row5_col3\" class=\"data row5 col3\" >142459.1806</td>\n",
       "      <td id=\"T_617c2_row5_col4\" class=\"data row5 col4\" >0.8716</td>\n",
       "      <td id=\"T_617c2_row5_col5\" class=\"data row5 col5\" >0.2293</td>\n",
       "      <td id=\"T_617c2_row5_col6\" class=\"data row5 col6\" >0.1759</td>\n",
       "      <td id=\"T_617c2_row5_col7\" class=\"data row5 col7\" >0.0870</td>\n",
       "    </tr>\n",
       "    <tr>\n",
       "      <th id=\"T_617c2_level0_row6\" class=\"row_heading level0 row6\" >dt</th>\n",
       "      <td id=\"T_617c2_row6_col0\" class=\"data row6 col0\" >Decision Tree Regressor</td>\n",
       "      <td id=\"T_617c2_row6_col1\" class=\"data row6 col1\" >112588.9421</td>\n",
       "      <td id=\"T_617c2_row6_col2\" class=\"data row6 col2\" >30641513782.3390</td>\n",
       "      <td id=\"T_617c2_row6_col3\" class=\"data row6 col3\" >174592.1711</td>\n",
       "      <td id=\"T_617c2_row6_col4\" class=\"data row6 col4\" >0.8076</td>\n",
       "      <td id=\"T_617c2_row6_col5\" class=\"data row6 col5\" >0.2678</td>\n",
       "      <td id=\"T_617c2_row6_col6\" class=\"data row6 col6\" >0.2025</td>\n",
       "      <td id=\"T_617c2_row6_col7\" class=\"data row6 col7\" >0.0390</td>\n",
       "    </tr>\n",
       "    <tr>\n",
       "      <th id=\"T_617c2_level0_row7\" class=\"row_heading level0 row7\" >llar</th>\n",
       "      <td id=\"T_617c2_row7_col0\" class=\"data row7 col0\" >Lasso Least Angle Regression</td>\n",
       "      <td id=\"T_617c2_row7_col1\" class=\"data row7 col1\" >129426.8556</td>\n",
       "      <td id=\"T_617c2_row7_col2\" class=\"data row7 col2\" >33039638310.2624</td>\n",
       "      <td id=\"T_617c2_row7_col3\" class=\"data row7 col3\" >181449.4332</td>\n",
       "      <td id=\"T_617c2_row7_col4\" class=\"data row7 col4\" >0.7924</td>\n",
       "      <td id=\"T_617c2_row7_col5\" class=\"data row7 col5\" >0.4727</td>\n",
       "      <td id=\"T_617c2_row7_col6\" class=\"data row7 col6\" >0.3043</td>\n",
       "      <td id=\"T_617c2_row7_col7\" class=\"data row7 col7\" >0.0380</td>\n",
       "    </tr>\n",
       "    <tr>\n",
       "      <th id=\"T_617c2_level0_row8\" class=\"row_heading level0 row8\" >lasso</th>\n",
       "      <td id=\"T_617c2_row8_col0\" class=\"data row8 col0\" >Lasso Regression</td>\n",
       "      <td id=\"T_617c2_row8_col1\" class=\"data row8 col1\" >129428.4525</td>\n",
       "      <td id=\"T_617c2_row8_col2\" class=\"data row8 col2\" >33052013624.3147</td>\n",
       "      <td id=\"T_617c2_row8_col3\" class=\"data row8 col3\" >181479.6735</td>\n",
       "      <td id=\"T_617c2_row8_col4\" class=\"data row8 col4\" >0.7923</td>\n",
       "      <td id=\"T_617c2_row8_col5\" class=\"data row8 col5\" >0.4721</td>\n",
       "      <td id=\"T_617c2_row8_col6\" class=\"data row8 col6\" >0.3043</td>\n",
       "      <td id=\"T_617c2_row8_col7\" class=\"data row8 col7\" >0.2400</td>\n",
       "    </tr>\n",
       "    <tr>\n",
       "      <th id=\"T_617c2_level0_row9\" class=\"row_heading level0 row9\" >ridge</th>\n",
       "      <td id=\"T_617c2_row9_col0\" class=\"data row9 col0\" >Ridge Regression</td>\n",
       "      <td id=\"T_617c2_row9_col1\" class=\"data row9 col1\" >129429.2510</td>\n",
       "      <td id=\"T_617c2_row9_col2\" class=\"data row9 col2\" >33068675972.6575</td>\n",
       "      <td id=\"T_617c2_row9_col3\" class=\"data row9 col3\" >181520.9640</td>\n",
       "      <td id=\"T_617c2_row9_col4\" class=\"data row9 col4\" >0.7922</td>\n",
       "      <td id=\"T_617c2_row9_col5\" class=\"data row9 col5\" >0.4710</td>\n",
       "      <td id=\"T_617c2_row9_col6\" class=\"data row9 col6\" >0.3043</td>\n",
       "      <td id=\"T_617c2_row9_col7\" class=\"data row9 col7\" >0.0350</td>\n",
       "    </tr>\n",
       "    <tr>\n",
       "      <th id=\"T_617c2_level0_row10\" class=\"row_heading level0 row10\" >br</th>\n",
       "      <td id=\"T_617c2_row10_col0\" class=\"data row10 col0\" >Bayesian Ridge</td>\n",
       "      <td id=\"T_617c2_row10_col1\" class=\"data row10 col1\" >129448.5756</td>\n",
       "      <td id=\"T_617c2_row10_col2\" class=\"data row10 col2\" >33065951181.3840</td>\n",
       "      <td id=\"T_617c2_row10_col3\" class=\"data row10 col3\" >181523.1938</td>\n",
       "      <td id=\"T_617c2_row10_col4\" class=\"data row10 col4\" >0.7922</td>\n",
       "      <td id=\"T_617c2_row10_col5\" class=\"data row10 col5\" >0.4674</td>\n",
       "      <td id=\"T_617c2_row10_col6\" class=\"data row10 col6\" >0.3037</td>\n",
       "      <td id=\"T_617c2_row10_col7\" class=\"data row10 col7\" >0.0340</td>\n",
       "    </tr>\n",
       "    <tr>\n",
       "      <th id=\"T_617c2_level0_row11\" class=\"row_heading level0 row11\" >huber</th>\n",
       "      <td id=\"T_617c2_row11_col0\" class=\"data row11 col0\" >Huber Regressor</td>\n",
       "      <td id=\"T_617c2_row11_col1\" class=\"data row11 col1\" >126732.3644</td>\n",
       "      <td id=\"T_617c2_row11_col2\" class=\"data row11 col2\" >33808385328.9419</td>\n",
       "      <td id=\"T_617c2_row11_col3\" class=\"data row11 col3\" >183592.4985</td>\n",
       "      <td id=\"T_617c2_row11_col4\" class=\"data row11 col4\" >0.7880</td>\n",
       "      <td id=\"T_617c2_row11_col5\" class=\"data row11 col5\" >0.4244</td>\n",
       "      <td id=\"T_617c2_row11_col6\" class=\"data row11 col6\" >0.2833</td>\n",
       "      <td id=\"T_617c2_row11_col7\" class=\"data row11 col7\" >0.0360</td>\n",
       "    </tr>\n",
       "    <tr>\n",
       "      <th id=\"T_617c2_level0_row12\" class=\"row_heading level0 row12\" >par</th>\n",
       "      <td id=\"T_617c2_row12_col0\" class=\"data row12 col0\" >Passive Aggressive Regressor</td>\n",
       "      <td id=\"T_617c2_row12_col1\" class=\"data row12 col1\" >127672.2583</td>\n",
       "      <td id=\"T_617c2_row12_col2\" class=\"data row12 col2\" >34711816041.3837</td>\n",
       "      <td id=\"T_617c2_row12_col3\" class=\"data row12 col3\" >186075.5345</td>\n",
       "      <td id=\"T_617c2_row12_col4\" class=\"data row12 col4\" >0.7824</td>\n",
       "      <td id=\"T_617c2_row12_col5\" class=\"data row12 col5\" >0.4293</td>\n",
       "      <td id=\"T_617c2_row12_col6\" class=\"data row12 col6\" >0.2794</td>\n",
       "      <td id=\"T_617c2_row12_col7\" class=\"data row12 col7\" >0.0760</td>\n",
       "    </tr>\n",
       "    <tr>\n",
       "      <th id=\"T_617c2_level0_row13\" class=\"row_heading level0 row13\" >en</th>\n",
       "      <td id=\"T_617c2_row13_col0\" class=\"data row13 col0\" >Elastic Net</td>\n",
       "      <td id=\"T_617c2_row13_col1\" class=\"data row13 col1\" >141631.5876</td>\n",
       "      <td id=\"T_617c2_row13_col2\" class=\"data row13 col2\" >39368316271.3502</td>\n",
       "      <td id=\"T_617c2_row13_col3\" class=\"data row13 col3\" >198190.5941</td>\n",
       "      <td id=\"T_617c2_row13_col4\" class=\"data row13 col4\" >0.7538</td>\n",
       "      <td id=\"T_617c2_row13_col5\" class=\"data row13 col5\" >0.3693</td>\n",
       "      <td id=\"T_617c2_row13_col6\" class=\"data row13 col6\" >0.2915</td>\n",
       "      <td id=\"T_617c2_row13_col7\" class=\"data row13 col7\" >0.0350</td>\n",
       "    </tr>\n",
       "    <tr>\n",
       "      <th id=\"T_617c2_level0_row14\" class=\"row_heading level0 row14\" >omp</th>\n",
       "      <td id=\"T_617c2_row14_col0\" class=\"data row14 col0\" >Orthogonal Matching Pursuit</td>\n",
       "      <td id=\"T_617c2_row14_col1\" class=\"data row14 col1\" >154302.4944</td>\n",
       "      <td id=\"T_617c2_row14_col2\" class=\"data row14 col2\" >47325900283.7498</td>\n",
       "      <td id=\"T_617c2_row14_col3\" class=\"data row14 col3\" >216733.8106</td>\n",
       "      <td id=\"T_617c2_row14_col4\" class=\"data row14 col4\" >0.7030</td>\n",
       "      <td id=\"T_617c2_row14_col5\" class=\"data row14 col5\" >0.4768</td>\n",
       "      <td id=\"T_617c2_row14_col6\" class=\"data row14 col6\" >0.3586</td>\n",
       "      <td id=\"T_617c2_row14_col7\" class=\"data row14 col7\" >0.0360</td>\n",
       "    </tr>\n",
       "    <tr>\n",
       "      <th id=\"T_617c2_level0_row15\" class=\"row_heading level0 row15\" >ada</th>\n",
       "      <td id=\"T_617c2_row15_col0\" class=\"data row15 col0\" >AdaBoost Regressor</td>\n",
       "      <td id=\"T_617c2_row15_col1\" class=\"data row15 col1\" >182768.9744</td>\n",
       "      <td id=\"T_617c2_row15_col2\" class=\"data row15 col2\" >50607208940.3883</td>\n",
       "      <td id=\"T_617c2_row15_col3\" class=\"data row15 col3\" >224709.9804</td>\n",
       "      <td id=\"T_617c2_row15_col4\" class=\"data row15 col4\" >0.6822</td>\n",
       "      <td id=\"T_617c2_row15_col5\" class=\"data row15 col5\" >0.4717</td>\n",
       "      <td id=\"T_617c2_row15_col6\" class=\"data row15 col6\" >0.5001</td>\n",
       "      <td id=\"T_617c2_row15_col7\" class=\"data row15 col7\" >0.0660</td>\n",
       "    </tr>\n",
       "    <tr>\n",
       "      <th id=\"T_617c2_level0_row16\" class=\"row_heading level0 row16\" >knn</th>\n",
       "      <td id=\"T_617c2_row16_col0\" class=\"data row16 col0\" >K Neighbors Regressor</td>\n",
       "      <td id=\"T_617c2_row16_col1\" class=\"data row16 col1\" >187984.5297</td>\n",
       "      <td id=\"T_617c2_row16_col2\" class=\"data row16 col2\" >72771759718.4000</td>\n",
       "      <td id=\"T_617c2_row16_col3\" class=\"data row16 col3\" >267584.8703</td>\n",
       "      <td id=\"T_617c2_row16_col4\" class=\"data row16 col4\" >0.5443</td>\n",
       "      <td id=\"T_617c2_row16_col5\" class=\"data row16 col5\" >0.4471</td>\n",
       "      <td id=\"T_617c2_row16_col6\" class=\"data row16 col6\" >0.4327</td>\n",
       "      <td id=\"T_617c2_row16_col7\" class=\"data row16 col7\" >0.0350</td>\n",
       "    </tr>\n",
       "    <tr>\n",
       "      <th id=\"T_617c2_level0_row17\" class=\"row_heading level0 row17\" >dummy</th>\n",
       "      <td id=\"T_617c2_row17_col0\" class=\"data row17 col0\" >Dummy Regressor</td>\n",
       "      <td id=\"T_617c2_row17_col1\" class=\"data row17 col1\" >304844.9969</td>\n",
       "      <td id=\"T_617c2_row17_col2\" class=\"data row17 col2\" >160850026496.0000</td>\n",
       "      <td id=\"T_617c2_row17_col3\" class=\"data row17 col3\" >400592.8531</td>\n",
       "      <td id=\"T_617c2_row17_col4\" class=\"data row17 col4\" >-0.0031</td>\n",
       "      <td id=\"T_617c2_row17_col5\" class=\"data row17 col5\" >0.6745</td>\n",
       "      <td id=\"T_617c2_row17_col6\" class=\"data row17 col6\" >0.7638</td>\n",
       "      <td id=\"T_617c2_row17_col7\" class=\"data row17 col7\" >0.0370</td>\n",
       "    </tr>\n",
       "    <tr>\n",
       "      <th id=\"T_617c2_level0_row18\" class=\"row_heading level0 row18\" >lr</th>\n",
       "      <td id=\"T_617c2_row18_col0\" class=\"data row18 col0\" >Linear Regression</td>\n",
       "      <td id=\"T_617c2_row18_col1\" class=\"data row18 col1\" >2017655772615730.7500</td>\n",
       "      <td id=\"T_617c2_row18_col2\" class=\"data row18 col2\" >4111067804456657164334668955254784.0000</td>\n",
       "      <td id=\"T_617c2_row18_col3\" class=\"data row18 col3\" >38295755311346512.0000</td>\n",
       "      <td id=\"T_617c2_row18_col4\" class=\"data row18 col4\" >-24073775519787550507008.0000</td>\n",
       "      <td id=\"T_617c2_row18_col5\" class=\"data row18 col5\" >0.9324</td>\n",
       "      <td id=\"T_617c2_row18_col6\" class=\"data row18 col6\" >5776421964.5947</td>\n",
       "      <td id=\"T_617c2_row18_col7\" class=\"data row18 col7\" >0.4050</td>\n",
       "    </tr>\n",
       "    <tr>\n",
       "      <th id=\"T_617c2_level0_row19\" class=\"row_heading level0 row19\" >lar</th>\n",
       "      <td id=\"T_617c2_row19_col0\" class=\"data row19 col0\" >Least Angle Regression</td>\n",
       "      <td id=\"T_617c2_row19_col1\" class=\"data row19 col1\" >5534182691840119.0000</td>\n",
       "      <td id=\"T_617c2_row19_col2\" class=\"data row19 col2\" >64482847552417513138753121894268928.0000</td>\n",
       "      <td id=\"T_617c2_row19_col3\" class=\"data row19 col3\" >105107164901539072.0000</td>\n",
       "      <td id=\"T_617c2_row19_col4\" class=\"data row19 col4\" >-408456781943157525839872.0000</td>\n",
       "      <td id=\"T_617c2_row19_col5\" class=\"data row19 col5\" >2.0454</td>\n",
       "      <td id=\"T_617c2_row19_col6\" class=\"data row19 col6\" >20761981571.7640</td>\n",
       "      <td id=\"T_617c2_row19_col7\" class=\"data row19 col7\" >0.0350</td>\n",
       "    </tr>\n",
       "  </tbody>\n",
       "</table>\n"
      ],
      "text/plain": [
       "<pandas.io.formats.style.Styler at 0x19faad7b9a0>"
      ]
     },
     "metadata": {},
     "output_type": "display_data"
    },
    {
     "data": {
      "text/html": [],
      "text/plain": [
       "<IPython.core.display.HTML object>"
      ]
     },
     "metadata": {},
     "output_type": "display_data"
    }
   ],
   "source": [
    "top_models = compare_models(n_select=5)"
   ]
  },
  {
   "cell_type": "code",
   "execution_count": 9,
   "id": "1a6b51d4-838a-4454-87ae-6b37e690a12f",
   "metadata": {},
   "outputs": [
    {
     "data": {
      "text/html": [
       "<style type=\"text/css\">\n",
       "</style>\n",
       "<table id=\"T_a6877\">\n",
       "  <thead>\n",
       "    <tr>\n",
       "      <th class=\"blank level0\" >&nbsp;</th>\n",
       "      <th id=\"T_a6877_level0_col0\" class=\"col_heading level0 col0\" >Model</th>\n",
       "      <th id=\"T_a6877_level0_col1\" class=\"col_heading level0 col1\" >MAE</th>\n",
       "      <th id=\"T_a6877_level0_col2\" class=\"col_heading level0 col2\" >MSE</th>\n",
       "      <th id=\"T_a6877_level0_col3\" class=\"col_heading level0 col3\" >RMSE</th>\n",
       "      <th id=\"T_a6877_level0_col4\" class=\"col_heading level0 col4\" >R2</th>\n",
       "      <th id=\"T_a6877_level0_col5\" class=\"col_heading level0 col5\" >RMSLE</th>\n",
       "      <th id=\"T_a6877_level0_col6\" class=\"col_heading level0 col6\" >MAPE</th>\n",
       "    </tr>\n",
       "  </thead>\n",
       "  <tbody>\n",
       "    <tr>\n",
       "      <th id=\"T_a6877_level0_row0\" class=\"row_heading level0 row0\" >0</th>\n",
       "      <td id=\"T_a6877_row0_col0\" class=\"data row0 col0\" >CatBoost Regressor</td>\n",
       "      <td id=\"T_a6877_row0_col1\" class=\"data row0 col1\" >72750.6669</td>\n",
       "      <td id=\"T_a6877_row0_col2\" class=\"data row0 col2\" >12541422613.0043</td>\n",
       "      <td id=\"T_a6877_row0_col3\" class=\"data row0 col3\" >111988.4932</td>\n",
       "      <td id=\"T_a6877_row0_col4\" class=\"data row0 col4\" >0.9210</td>\n",
       "      <td id=\"T_a6877_row0_col5\" class=\"data row0 col5\" >0.1795</td>\n",
       "      <td id=\"T_a6877_row0_col6\" class=\"data row0 col6\" >0.1325</td>\n",
       "    </tr>\n",
       "  </tbody>\n",
       "</table>\n"
      ],
      "text/plain": [
       "<pandas.io.formats.style.Styler at 0x19faaf0bf40>"
      ]
     },
     "metadata": {},
     "output_type": "display_data"
    },
    {
     "name": "stderr",
     "output_type": "stream",
     "text": [
      "2025/08/29 13:47:06 WARNING mlflow.models.model: `artifact_path` is deprecated. Please use `name` instead.\n",
      "2025/08/29 13:47:10 WARNING mlflow.models.model: Model logged without a signature and input example. Please set `input_example` parameter when logging the model to auto infer the model signature.\n"
     ]
    },
    {
     "name": "stdout",
     "output_type": "stream",
     "text": [
      "🏃 View run <catboost.core.CatBoostRegressor object at 0x0000019FA89C9270> at: http://localhost:5000/#/experiments/874352189977763051/runs/ba2181b1e72641b1bb43a86599a5b40b\n",
      "🧪 View experiment at: http://localhost:5000/#/experiments/874352189977763051\n"
     ]
    },
    {
     "data": {
      "text/html": [
       "<style type=\"text/css\">\n",
       "</style>\n",
       "<table id=\"T_dc88e\">\n",
       "  <thead>\n",
       "    <tr>\n",
       "      <th class=\"blank level0\" >&nbsp;</th>\n",
       "      <th id=\"T_dc88e_level0_col0\" class=\"col_heading level0 col0\" >Model</th>\n",
       "      <th id=\"T_dc88e_level0_col1\" class=\"col_heading level0 col1\" >MAE</th>\n",
       "      <th id=\"T_dc88e_level0_col2\" class=\"col_heading level0 col2\" >MSE</th>\n",
       "      <th id=\"T_dc88e_level0_col3\" class=\"col_heading level0 col3\" >RMSE</th>\n",
       "      <th id=\"T_dc88e_level0_col4\" class=\"col_heading level0 col4\" >R2</th>\n",
       "      <th id=\"T_dc88e_level0_col5\" class=\"col_heading level0 col5\" >RMSLE</th>\n",
       "      <th id=\"T_dc88e_level0_col6\" class=\"col_heading level0 col6\" >MAPE</th>\n",
       "    </tr>\n",
       "  </thead>\n",
       "  <tbody>\n",
       "    <tr>\n",
       "      <th id=\"T_dc88e_level0_row0\" class=\"row_heading level0 row0\" >0</th>\n",
       "      <td id=\"T_dc88e_row0_col0\" class=\"data row0 col0\" >Light Gradient Boosting Machine</td>\n",
       "      <td id=\"T_dc88e_row0_col1\" class=\"data row0 col1\" >80065.5161</td>\n",
       "      <td id=\"T_dc88e_row0_col2\" class=\"data row0 col2\" >15454322875.7901</td>\n",
       "      <td id=\"T_dc88e_row0_col3\" class=\"data row0 col3\" >124315.4169</td>\n",
       "      <td id=\"T_dc88e_row0_col4\" class=\"data row0 col4\" >0.9026</td>\n",
       "      <td id=\"T_dc88e_row0_col5\" class=\"data row0 col5\" >0.1985</td>\n",
       "      <td id=\"T_dc88e_row0_col6\" class=\"data row0 col6\" >0.1462</td>\n",
       "    </tr>\n",
       "  </tbody>\n",
       "</table>\n"
      ],
      "text/plain": [
       "<pandas.io.formats.style.Styler at 0x19faaf4ee60>"
      ]
     },
     "metadata": {},
     "output_type": "display_data"
    },
    {
     "name": "stderr",
     "output_type": "stream",
     "text": [
      "2025/08/29 13:47:10 WARNING mlflow.models.model: `artifact_path` is deprecated. Please use `name` instead.\n",
      "2025/08/29 13:47:13 WARNING mlflow.models.model: Model logged without a signature and input example. Please set `input_example` parameter when logging the model to auto infer the model signature.\n"
     ]
    },
    {
     "name": "stdout",
     "output_type": "stream",
     "text": [
      "🏃 View run LGBMRegressor at: http://localhost:5000/#/experiments/874352189977763051/runs/0553409991d54f42b4ba4f4b97847130\n",
      "🧪 View experiment at: http://localhost:5000/#/experiments/874352189977763051\n"
     ]
    },
    {
     "data": {
      "text/html": [
       "<style type=\"text/css\">\n",
       "</style>\n",
       "<table id=\"T_cae2e\">\n",
       "  <thead>\n",
       "    <tr>\n",
       "      <th class=\"blank level0\" >&nbsp;</th>\n",
       "      <th id=\"T_cae2e_level0_col0\" class=\"col_heading level0 col0\" >Model</th>\n",
       "      <th id=\"T_cae2e_level0_col1\" class=\"col_heading level0 col1\" >MAE</th>\n",
       "      <th id=\"T_cae2e_level0_col2\" class=\"col_heading level0 col2\" >MSE</th>\n",
       "      <th id=\"T_cae2e_level0_col3\" class=\"col_heading level0 col3\" >RMSE</th>\n",
       "      <th id=\"T_cae2e_level0_col4\" class=\"col_heading level0 col4\" >R2</th>\n",
       "      <th id=\"T_cae2e_level0_col5\" class=\"col_heading level0 col5\" >RMSLE</th>\n",
       "      <th id=\"T_cae2e_level0_col6\" class=\"col_heading level0 col6\" >MAPE</th>\n",
       "    </tr>\n",
       "  </thead>\n",
       "  <tbody>\n",
       "    <tr>\n",
       "      <th id=\"T_cae2e_level0_row0\" class=\"row_heading level0 row0\" >0</th>\n",
       "      <td id=\"T_cae2e_row0_col0\" class=\"data row0 col0\" >Extreme Gradient Boosting</td>\n",
       "      <td id=\"T_cae2e_row0_col1\" class=\"data row0 col1\" >78760.6328</td>\n",
       "      <td id=\"T_cae2e_row0_col2\" class=\"data row0 col2\" >15379539968.0000</td>\n",
       "      <td id=\"T_cae2e_row0_col3\" class=\"data row0 col3\" >124014.2734</td>\n",
       "      <td id=\"T_cae2e_row0_col4\" class=\"data row0 col4\" >0.9031</td>\n",
       "      <td id=\"T_cae2e_row0_col5\" class=\"data row0 col5\" >0.2005</td>\n",
       "      <td id=\"T_cae2e_row0_col6\" class=\"data row0 col6\" >0.1438</td>\n",
       "    </tr>\n",
       "  </tbody>\n",
       "</table>\n"
      ],
      "text/plain": [
       "<pandas.io.formats.style.Styler at 0x19fa8aca6e0>"
      ]
     },
     "metadata": {},
     "output_type": "display_data"
    },
    {
     "name": "stderr",
     "output_type": "stream",
     "text": [
      "2025/08/29 13:47:13 WARNING mlflow.models.model: `artifact_path` is deprecated. Please use `name` instead.\n",
      "2025/08/29 13:47:15 WARNING mlflow.models.model: Model logged without a signature and input example. Please set `input_example` parameter when logging the model to auto infer the model signature.\n"
     ]
    },
    {
     "name": "stdout",
     "output_type": "stream",
     "text": [
      "🏃 View run XGBRegressor at: http://localhost:5000/#/experiments/874352189977763051/runs/decac54bcfbb45b9ae8df2d8a7daa881\n",
      "🧪 View experiment at: http://localhost:5000/#/experiments/874352189977763051\n"
     ]
    },
    {
     "data": {
      "text/html": [
       "<style type=\"text/css\">\n",
       "</style>\n",
       "<table id=\"T_3f834\">\n",
       "  <thead>\n",
       "    <tr>\n",
       "      <th class=\"blank level0\" >&nbsp;</th>\n",
       "      <th id=\"T_3f834_level0_col0\" class=\"col_heading level0 col0\" >Model</th>\n",
       "      <th id=\"T_3f834_level0_col1\" class=\"col_heading level0 col1\" >MAE</th>\n",
       "      <th id=\"T_3f834_level0_col2\" class=\"col_heading level0 col2\" >MSE</th>\n",
       "      <th id=\"T_3f834_level0_col3\" class=\"col_heading level0 col3\" >RMSE</th>\n",
       "      <th id=\"T_3f834_level0_col4\" class=\"col_heading level0 col4\" >R2</th>\n",
       "      <th id=\"T_3f834_level0_col5\" class=\"col_heading level0 col5\" >RMSLE</th>\n",
       "      <th id=\"T_3f834_level0_col6\" class=\"col_heading level0 col6\" >MAPE</th>\n",
       "    </tr>\n",
       "  </thead>\n",
       "  <tbody>\n",
       "    <tr>\n",
       "      <th id=\"T_3f834_level0_row0\" class=\"row_heading level0 row0\" >0</th>\n",
       "      <td id=\"T_3f834_row0_col0\" class=\"data row0 col0\" >Random Forest Regressor</td>\n",
       "      <td id=\"T_3f834_row0_col1\" class=\"data row0 col1\" >81164.0320</td>\n",
       "      <td id=\"T_3f834_row0_col2\" class=\"data row0 col2\" >15859577029.2961</td>\n",
       "      <td id=\"T_3f834_row0_col3\" class=\"data row0 col3\" >125934.8126</td>\n",
       "      <td id=\"T_3f834_row0_col4\" class=\"data row0 col4\" >0.9000</td>\n",
       "      <td id=\"T_3f834_row0_col5\" class=\"data row0 col5\" >0.1971</td>\n",
       "      <td id=\"T_3f834_row0_col6\" class=\"data row0 col6\" >0.1508</td>\n",
       "    </tr>\n",
       "  </tbody>\n",
       "</table>\n"
      ],
      "text/plain": [
       "<pandas.io.formats.style.Styler at 0x19fff8567d0>"
      ]
     },
     "metadata": {},
     "output_type": "display_data"
    },
    {
     "name": "stderr",
     "output_type": "stream",
     "text": [
      "2025/08/29 13:47:16 WARNING mlflow.models.model: `artifact_path` is deprecated. Please use `name` instead.\n",
      "2025/08/29 13:47:18 WARNING mlflow.models.model: Model logged without a signature and input example. Please set `input_example` parameter when logging the model to auto infer the model signature.\n"
     ]
    },
    {
     "name": "stdout",
     "output_type": "stream",
     "text": [
      "🏃 View run RandomForestRegressor at: http://localhost:5000/#/experiments/874352189977763051/runs/8398be36ffa74e4c83373592581cef10\n",
      "🧪 View experiment at: http://localhost:5000/#/experiments/874352189977763051\n"
     ]
    },
    {
     "data": {
      "text/html": [
       "<style type=\"text/css\">\n",
       "</style>\n",
       "<table id=\"T_5100e\">\n",
       "  <thead>\n",
       "    <tr>\n",
       "      <th class=\"blank level0\" >&nbsp;</th>\n",
       "      <th id=\"T_5100e_level0_col0\" class=\"col_heading level0 col0\" >Model</th>\n",
       "      <th id=\"T_5100e_level0_col1\" class=\"col_heading level0 col1\" >MAE</th>\n",
       "      <th id=\"T_5100e_level0_col2\" class=\"col_heading level0 col2\" >MSE</th>\n",
       "      <th id=\"T_5100e_level0_col3\" class=\"col_heading level0 col3\" >RMSE</th>\n",
       "      <th id=\"T_5100e_level0_col4\" class=\"col_heading level0 col4\" >R2</th>\n",
       "      <th id=\"T_5100e_level0_col5\" class=\"col_heading level0 col5\" >RMSLE</th>\n",
       "      <th id=\"T_5100e_level0_col6\" class=\"col_heading level0 col6\" >MAPE</th>\n",
       "    </tr>\n",
       "  </thead>\n",
       "  <tbody>\n",
       "    <tr>\n",
       "      <th id=\"T_5100e_level0_row0\" class=\"row_heading level0 row0\" >0</th>\n",
       "      <td id=\"T_5100e_row0_col0\" class=\"data row0 col0\" >Extra Trees Regressor</td>\n",
       "      <td id=\"T_5100e_row0_col1\" class=\"data row0 col1\" >80378.3128</td>\n",
       "      <td id=\"T_5100e_row0_col2\" class=\"data row0 col2\" >15120819841.2187</td>\n",
       "      <td id=\"T_5100e_row0_col3\" class=\"data row0 col3\" >122966.7428</td>\n",
       "      <td id=\"T_5100e_row0_col4\" class=\"data row0 col4\" >0.9047</td>\n",
       "      <td id=\"T_5100e_row0_col5\" class=\"data row0 col5\" >0.1987</td>\n",
       "      <td id=\"T_5100e_row0_col6\" class=\"data row0 col6\" >0.1508</td>\n",
       "    </tr>\n",
       "  </tbody>\n",
       "</table>\n"
      ],
      "text/plain": [
       "<pandas.io.formats.style.Styler at 0x19fa89e2440>"
      ]
     },
     "metadata": {},
     "output_type": "display_data"
    },
    {
     "name": "stderr",
     "output_type": "stream",
     "text": [
      "2025/08/29 13:47:19 WARNING mlflow.models.model: `artifact_path` is deprecated. Please use `name` instead.\n",
      "2025/08/29 13:47:21 WARNING mlflow.models.model: Model logged without a signature and input example. Please set `input_example` parameter when logging the model to auto infer the model signature.\n"
     ]
    },
    {
     "name": "stdout",
     "output_type": "stream",
     "text": [
      "🏃 View run ExtraTreesRegressor at: http://localhost:5000/#/experiments/874352189977763051/runs/ae3a4fb7f98344eab6b22edcf24d7ea2\n",
      "🧪 View experiment at: http://localhost:5000/#/experiments/874352189977763051\n"
     ]
    }
   ],
   "source": [
    "mlflow.set_tracking_uri(\"http://localhost:5000\")  # or your MLflow URI\n",
    "mlflow.set_experiment(\"Used_Car_Price_Prediction\")\n",
    "\n",
    "for model in top_models:\n",
    "    model_name = str(model).split(\"(\")[0]  # get class name\n",
    "    eval_result = predict_model(model)\n",
    "    metrics = pull()  # metrics from PyCaret table\n",
    "    \n",
    "    with mlflow.start_run(run_name=model_name):\n",
    "        # Log parameters\n",
    "        mlflow.log_param(\"target\", \"Price\")\n",
    "        mlflow.log_param(\"normalize\", True)\n",
    "        mlflow.log_param(\"rare_to_value\", 0.01)\n",
    "        mlflow.log_param(\"bin_numeric_features\", \"Mileage,Engine,Car_Age\")\n",
    "        mlflow.log_param(\"session_id\", 42)\n",
    "        \n",
    "        # Log metrics\n",
    "        mlflow.log_metric(\"R2\", metrics[\"R2\"])\n",
    "        mlflow.log_metric(\"MAE\", metrics[\"MAE\"])\n",
    "        mlflow.log_metric(\"RMSE\", metrics[\"RMSE\"])\n",
    "        \n",
    "        # Log model\n",
    "        mlflow.sklearn.log_model(model, \"model\")"
   ]
  },
  {
   "cell_type": "code",
   "execution_count": 10,
   "id": "e323ffc5-c489-4338-8255-f02fe385dee4",
   "metadata": {},
   "outputs": [
    {
     "data": {
      "text/html": [],
      "text/plain": [
       "<IPython.core.display.HTML object>"
      ]
     },
     "metadata": {},
     "output_type": "display_data"
    },
    {
     "data": {
      "text/html": [
       "<style type=\"text/css\">\n",
       "#T_464d5_row5_col0, #T_464d5_row5_col1, #T_464d5_row5_col2, #T_464d5_row5_col3, #T_464d5_row5_col4, #T_464d5_row5_col5 {\n",
       "  background: yellow;\n",
       "}\n",
       "</style>\n",
       "<table id=\"T_464d5\">\n",
       "  <thead>\n",
       "    <tr>\n",
       "      <th class=\"blank level0\" >&nbsp;</th>\n",
       "      <th id=\"T_464d5_level0_col0\" class=\"col_heading level0 col0\" >MAE</th>\n",
       "      <th id=\"T_464d5_level0_col1\" class=\"col_heading level0 col1\" >MSE</th>\n",
       "      <th id=\"T_464d5_level0_col2\" class=\"col_heading level0 col2\" >RMSE</th>\n",
       "      <th id=\"T_464d5_level0_col3\" class=\"col_heading level0 col3\" >R2</th>\n",
       "      <th id=\"T_464d5_level0_col4\" class=\"col_heading level0 col4\" >RMSLE</th>\n",
       "      <th id=\"T_464d5_level0_col5\" class=\"col_heading level0 col5\" >MAPE</th>\n",
       "    </tr>\n",
       "    <tr>\n",
       "      <th class=\"index_name level0\" >Fold</th>\n",
       "      <th class=\"blank col0\" >&nbsp;</th>\n",
       "      <th class=\"blank col1\" >&nbsp;</th>\n",
       "      <th class=\"blank col2\" >&nbsp;</th>\n",
       "      <th class=\"blank col3\" >&nbsp;</th>\n",
       "      <th class=\"blank col4\" >&nbsp;</th>\n",
       "      <th class=\"blank col5\" >&nbsp;</th>\n",
       "    </tr>\n",
       "  </thead>\n",
       "  <tbody>\n",
       "    <tr>\n",
       "      <th id=\"T_464d5_level0_row0\" class=\"row_heading level0 row0\" >0</th>\n",
       "      <td id=\"T_464d5_row0_col0\" class=\"data row0 col0\" >98587.0993</td>\n",
       "      <td id=\"T_464d5_row0_col1\" class=\"data row0 col1\" >23681842055.9586</td>\n",
       "      <td id=\"T_464d5_row0_col2\" class=\"data row0 col2\" >153889.0576</td>\n",
       "      <td id=\"T_464d5_row0_col3\" class=\"data row0 col3\" >0.8389</td>\n",
       "      <td id=\"T_464d5_row0_col4\" class=\"data row0 col4\" >0.3859</td>\n",
       "      <td id=\"T_464d5_row0_col5\" class=\"data row0 col5\" >0.2017</td>\n",
       "    </tr>\n",
       "    <tr>\n",
       "      <th id=\"T_464d5_level0_row1\" class=\"row_heading level0 row1\" >1</th>\n",
       "      <td id=\"T_464d5_row1_col0\" class=\"data row1 col0\" >88269.6326</td>\n",
       "      <td id=\"T_464d5_row1_col1\" class=\"data row1 col1\" >15278557334.6968</td>\n",
       "      <td id=\"T_464d5_row1_col2\" class=\"data row1 col2\" >123606.4615</td>\n",
       "      <td id=\"T_464d5_row1_col3\" class=\"data row1 col3\" >0.9059</td>\n",
       "      <td id=\"T_464d5_row1_col4\" class=\"data row1 col4\" >0.3203</td>\n",
       "      <td id=\"T_464d5_row1_col5\" class=\"data row1 col5\" >0.1787</td>\n",
       "    </tr>\n",
       "    <tr>\n",
       "      <th id=\"T_464d5_level0_row2\" class=\"row_heading level0 row2\" >2</th>\n",
       "      <td id=\"T_464d5_row2_col0\" class=\"data row2 col0\" >106157.9925</td>\n",
       "      <td id=\"T_464d5_row2_col1\" class=\"data row2 col1\" >26330700683.4428</td>\n",
       "      <td id=\"T_464d5_row2_col2\" class=\"data row2 col2\" >162267.3741</td>\n",
       "      <td id=\"T_464d5_row2_col3\" class=\"data row2 col3\" >0.8274</td>\n",
       "      <td id=\"T_464d5_row2_col4\" class=\"data row2 col4\" >0.4178</td>\n",
       "      <td id=\"T_464d5_row2_col5\" class=\"data row2 col5\" >0.1985</td>\n",
       "    </tr>\n",
       "    <tr>\n",
       "      <th id=\"T_464d5_level0_row3\" class=\"row_heading level0 row3\" >3</th>\n",
       "      <td id=\"T_464d5_row3_col0\" class=\"data row3 col0\" >98658.1889</td>\n",
       "      <td id=\"T_464d5_row3_col1\" class=\"data row3 col1\" >20770228318.9095</td>\n",
       "      <td id=\"T_464d5_row3_col2\" class=\"data row3 col2\" >144118.7993</td>\n",
       "      <td id=\"T_464d5_row3_col3\" class=\"data row3 col3\" >0.8693</td>\n",
       "      <td id=\"T_464d5_row3_col4\" class=\"data row3 col4\" >0.3472</td>\n",
       "      <td id=\"T_464d5_row3_col5\" class=\"data row3 col5\" >0.1894</td>\n",
       "    </tr>\n",
       "    <tr>\n",
       "      <th id=\"T_464d5_level0_row4\" class=\"row_heading level0 row4\" >4</th>\n",
       "      <td id=\"T_464d5_row4_col0\" class=\"data row4 col0\" >105346.5043</td>\n",
       "      <td id=\"T_464d5_row4_col1\" class=\"data row4 col1\" >23290115331.9701</td>\n",
       "      <td id=\"T_464d5_row4_col2\" class=\"data row4 col2\" >152610.9935</td>\n",
       "      <td id=\"T_464d5_row4_col3\" class=\"data row4 col3\" >0.8717</td>\n",
       "      <td id=\"T_464d5_row4_col4\" class=\"data row4 col4\" >0.3145</td>\n",
       "      <td id=\"T_464d5_row4_col5\" class=\"data row4 col5\" >0.1911</td>\n",
       "    </tr>\n",
       "    <tr>\n",
       "      <th id=\"T_464d5_level0_row5\" class=\"row_heading level0 row5\" >Mean</th>\n",
       "      <td id=\"T_464d5_row5_col0\" class=\"data row5 col0\" >99403.8835</td>\n",
       "      <td id=\"T_464d5_row5_col1\" class=\"data row5 col1\" >21870288744.9956</td>\n",
       "      <td id=\"T_464d5_row5_col2\" class=\"data row5 col2\" >147298.5372</td>\n",
       "      <td id=\"T_464d5_row5_col3\" class=\"data row5 col3\" >0.8626</td>\n",
       "      <td id=\"T_464d5_row5_col4\" class=\"data row5 col4\" >0.3571</td>\n",
       "      <td id=\"T_464d5_row5_col5\" class=\"data row5 col5\" >0.1919</td>\n",
       "    </tr>\n",
       "    <tr>\n",
       "      <th id=\"T_464d5_level0_row6\" class=\"row_heading level0 row6\" >Std</th>\n",
       "      <td id=\"T_464d5_row6_col0\" class=\"data row6 col0\" >6420.7082</td>\n",
       "      <td id=\"T_464d5_row6_col1\" class=\"data row6 col1\" >3737752359.9817</td>\n",
       "      <td id=\"T_464d5_row6_col2\" class=\"data row6 col2\" >13169.2704</td>\n",
       "      <td id=\"T_464d5_row6_col3\" class=\"data row6 col3\" >0.0276</td>\n",
       "      <td id=\"T_464d5_row6_col4\" class=\"data row6 col4\" >0.0394</td>\n",
       "      <td id=\"T_464d5_row6_col5\" class=\"data row6 col5\" >0.0080</td>\n",
       "    </tr>\n",
       "  </tbody>\n",
       "</table>\n"
      ],
      "text/plain": [
       "<pandas.io.formats.style.Styler at 0x19faad7bca0>"
      ]
     },
     "metadata": {},
     "output_type": "display_data"
    },
    {
     "data": {
      "text/html": [],
      "text/plain": [
       "<IPython.core.display.HTML object>"
      ]
     },
     "metadata": {},
     "output_type": "display_data"
    },
    {
     "name": "stdout",
     "output_type": "stream",
     "text": [
      "Fitting 5 folds for each of 10 candidates, totalling 50 fits\n",
      "Original model was better than the tuned model, hence it will be returned. NOTE: The display metrics are for the tuned model (not the original one).\n"
     ]
    }
   ],
   "source": [
    "best_model = top_models[0]\n",
    "tuned_model = tune_model(best_model, optimize='R2', fold=5)"
   ]
  },
  {
   "cell_type": "code",
   "execution_count": 11,
   "id": "87325c77-3c1f-43fa-803d-cc9e2b0f8bb7",
   "metadata": {},
   "outputs": [],
   "source": [
    "final_model = finalize_model(tuned_model)"
   ]
  },
  {
   "cell_type": "code",
   "execution_count": 12,
   "id": "c4921d11-468f-49e4-a5fa-015f058311ec",
   "metadata": {},
   "outputs": [
    {
     "data": {
      "application/vnd.jupyter.widget-view+json": {
       "model_id": "c20a13df1f4043a5b491e51156d6eb9d",
       "version_major": 2,
       "version_minor": 0
      },
      "text/plain": [
       "interactive(children=(ToggleButtons(description='Plot Type:', icons=('',), options=(('Pipeline Plot', 'pipelin…"
      ]
     },
     "metadata": {},
     "output_type": "display_data"
    }
   ],
   "source": [
    "evaluate_model(tuned_model)"
   ]
  },
  {
   "cell_type": "code",
   "execution_count": 13,
   "id": "c37bc042-cad3-4c8a-bc8b-4b2b62188a3e",
   "metadata": {},
   "outputs": [
    {
     "data": {
      "text/html": [
       "<style type=\"text/css\">\n",
       "</style>\n",
       "<table id=\"T_1e4c6\">\n",
       "  <thead>\n",
       "    <tr>\n",
       "      <th class=\"blank level0\" >&nbsp;</th>\n",
       "      <th id=\"T_1e4c6_level0_col0\" class=\"col_heading level0 col0\" >Model</th>\n",
       "      <th id=\"T_1e4c6_level0_col1\" class=\"col_heading level0 col1\" >MAE</th>\n",
       "      <th id=\"T_1e4c6_level0_col2\" class=\"col_heading level0 col2\" >MSE</th>\n",
       "      <th id=\"T_1e4c6_level0_col3\" class=\"col_heading level0 col3\" >RMSE</th>\n",
       "      <th id=\"T_1e4c6_level0_col4\" class=\"col_heading level0 col4\" >R2</th>\n",
       "      <th id=\"T_1e4c6_level0_col5\" class=\"col_heading level0 col5\" >RMSLE</th>\n",
       "      <th id=\"T_1e4c6_level0_col6\" class=\"col_heading level0 col6\" >MAPE</th>\n",
       "    </tr>\n",
       "  </thead>\n",
       "  <tbody>\n",
       "    <tr>\n",
       "      <th id=\"T_1e4c6_level0_row0\" class=\"row_heading level0 row0\" >0</th>\n",
       "      <td id=\"T_1e4c6_row0_col0\" class=\"data row0 col0\" >CatBoost Regressor</td>\n",
       "      <td id=\"T_1e4c6_row0_col1\" class=\"data row0 col1\" >57112.2286</td>\n",
       "      <td id=\"T_1e4c6_row0_col2\" class=\"data row0 col2\" >7035977623.1329</td>\n",
       "      <td id=\"T_1e4c6_row0_col3\" class=\"data row0 col3\" >83880.7345</td>\n",
       "      <td id=\"T_1e4c6_row0_col4\" class=\"data row0 col4\" >0.9561</td>\n",
       "      <td id=\"T_1e4c6_row0_col5\" class=\"data row0 col5\" >0.1452</td>\n",
       "      <td id=\"T_1e4c6_row0_col6\" class=\"data row0 col6\" >0.1084</td>\n",
       "    </tr>\n",
       "  </tbody>\n",
       "</table>\n"
      ],
      "text/plain": [
       "<pandas.io.formats.style.Styler at 0x19fa8b4c760>"
      ]
     },
     "metadata": {},
     "output_type": "display_data"
    }
   ],
   "source": [
    "predictions = predict_model(tuned_model, data=df)"
   ]
  },
  {
   "cell_type": "code",
   "execution_count": 14,
   "id": "0b091a9b-5d89-4800-935d-571960ab348a",
   "metadata": {},
   "outputs": [
    {
     "name": "stderr",
     "output_type": "stream",
     "text": [
      "2025/08/29 13:47:36 WARNING mlflow.models.model: `artifact_path` is deprecated. Please use `name` instead.\n"
     ]
    },
    {
     "data": {
      "application/vnd.jupyter.widget-view+json": {
       "model_id": "d20574330a6e4df29ee2bcaece946df9",
       "version_major": 2,
       "version_minor": 0
      },
      "text/plain": [
       "Downloading artifacts:   0%|          | 0/7 [00:00<?, ?it/s]"
      ]
     },
     "metadata": {},
     "output_type": "display_data"
    },
    {
     "name": "stderr",
     "output_type": "stream",
     "text": [
      "Registered model 'UsedCarPriceModel' already exists. Creating a new version of this model...\n",
      "2025/08/29 13:47:40 INFO mlflow.store.model_registry.abstract_store: Waiting up to 300 seconds for model version to finish creation. Model name: UsedCarPriceModel, version 7\n"
     ]
    },
    {
     "name": "stdout",
     "output_type": "stream",
     "text": [
      "🏃 View run Final_Best_Model at: http://localhost:5000/#/experiments/874352189977763051/runs/21aa03de6e2a4d8f88cb8c414427396b\n",
      "🧪 View experiment at: http://localhost:5000/#/experiments/874352189977763051\n"
     ]
    },
    {
     "name": "stderr",
     "output_type": "stream",
     "text": [
      "Created version '7' of model 'UsedCarPriceModel'.\n"
     ]
    }
   ],
   "source": [
    "final_metrics = pull()\n",
    "\n",
    "input_example = df.head(1)\n",
    "from mlflow.models.signature import infer_signature\n",
    "signature = infer_signature(input_example, final_model.predict(input_example))\n",
    "\n",
    "with mlflow.start_run(run_name=\"Final_Best_Model\"):\n",
    "    # Parameters\n",
    "    mlflow.log_param(\"model\", str(best_model).split(\"(\")[0])\n",
    "    mlflow.log_param(\"tuned\", True)\n",
    "    mlflow.log_param(\"optimize_metric\", \"R2\")\n",
    "\n",
    "    # Metrics\n",
    "    mlflow.log_metric(\"R2\", final_metrics[\"R2\"])\n",
    "    mlflow.log_metric(\"MAE\", final_metrics[\"MAE\"])\n",
    "    mlflow.log_metric(\"RMSE\", final_metrics[\"RMSE\"])\n",
    "\n",
    "    # Model\n",
    "    mlflow.sklearn.log_model(\n",
    "        sk_model=final_model,\n",
    "        artifact_path=\"model\",\n",
    "        registered_model_name=\"UsedCarPriceModel\",\n",
    "        input_example=input_example,\n",
    "        signature=signature\n",
    "    )"
   ]
  },
  {
   "cell_type": "code",
   "execution_count": 15,
   "id": "6eb2b6c7-3c1a-49aa-ba64-eb9d616d865c",
   "metadata": {},
   "outputs": [
    {
     "name": "stdout",
     "output_type": "stream",
     "text": [
      "Transformation Pipeline and Model Successfully Saved\n"
     ]
    },
    {
     "data": {
      "text/plain": [
       "(Pipeline(memory=Memory(location=None),\n",
       "          steps=[('numerical_imputer',\n",
       "                  TransformerWrapper(include=['Year', 'Kilometers_Driven',\n",
       "                                              'Mileage', 'Engine', 'Power',\n",
       "                                              'Seats', 'Car_Age', 'km/year'],\n",
       "                                     transformer=SimpleImputer())),\n",
       "                 ('categorical_imputer',\n",
       "                  TransformerWrapper(include=['Location', 'Fuel_Type',\n",
       "                                              'Transmission', 'Owner_Type',\n",
       "                                              'Brand', 'Model'],\n",
       "                                     transformer=SimpleImpute...\n",
       "                 ('bin_numeric_features',\n",
       "                  TransformerWrapper(include=['Mileage', 'Engine', 'Car_Age'],\n",
       "                                     transformer=KBinsDiscretizer(encode='ordinal',\n",
       "                                                                  strategy='kmeans'))),\n",
       "                 ('normalize', TransformerWrapper(transformer=StandardScaler())),\n",
       "                 ('clean_column_names',\n",
       "                  TransformerWrapper(transformer=CleanColumnNames())),\n",
       "                 ('actual_estimator',\n",
       "                  <catboost.core.CatBoostRegressor object at 0x0000019FA89E2D70>)]),\n",
       " '../models/catboost_used_car_model.pkl')"
      ]
     },
     "execution_count": 15,
     "metadata": {},
     "output_type": "execute_result"
    }
   ],
   "source": [
    "save_model(final_model, '../models/catboost_used_car_model')"
   ]
  }
 ],
 "metadata": {
  "kernelspec": {
   "display_name": "mlops",
   "language": "python",
   "name": "mlops"
  },
  "language_info": {
   "codemirror_mode": {
    "name": "ipython",
    "version": 3
   },
   "file_extension": ".py",
   "mimetype": "text/x-python",
   "name": "python",
   "nbconvert_exporter": "python",
   "pygments_lexer": "ipython3",
   "version": "3.10.18"
  }
 },
 "nbformat": 4,
 "nbformat_minor": 5
}
